{
 "cells": [
  {
   "cell_type": "code",
   "execution_count": null,
   "metadata": {},
   "outputs": [],
   "source": [
    "import kserve\n",
    "\n",
    "kserve.ModelServer(http_port=8100, enable_docs_url=True)"
   ]
  },
  {
   "cell_type": "code",
   "execution_count": 9,
   "metadata": {},
   "outputs": [
    {
     "name": "stdout",
     "output_type": "stream",
     "text": [
      "Defaulting to user installation because normal site-packages is not writeable\n",
      "Collecting kserve==0.14.0\n",
      "  Downloading kserve-0.14.0-py3-none-any.whl.metadata (12 kB)\n",
      "Requirement already satisfied: cloudevents<2.0.0,>=1.6.2 in /Users/dmitrysirakov/Library/Python/3.9/lib/python/site-packages (from kserve==0.14.0) (1.11.0)\n",
      "Requirement already satisfied: fastapi>=0.114.1 in /Users/dmitrysirakov/Library/Python/3.9/lib/python/site-packages (from kserve==0.14.0) (0.115.6)\n",
      "Requirement already satisfied: grpcio<2.0.0,>=1.60.0 in /Users/dmitrysirakov/Library/Python/3.9/lib/python/site-packages (from kserve==0.14.0) (1.69.0)\n",
      "Requirement already satisfied: httpx<0.28.0,>=0.27.2 in /Users/dmitrysirakov/Library/Python/3.9/lib/python/site-packages (from kserve==0.14.0) (0.27.2)\n",
      "Requirement already satisfied: kubernetes>=23.3.0 in /Users/dmitrysirakov/Library/Python/3.9/lib/python/site-packages (from kserve==0.14.0) (31.0.0)\n",
      "Requirement already satisfied: numpy<2.0.0,>=1.26.0 in /Users/dmitrysirakov/Library/Python/3.9/lib/python/site-packages (from kserve==0.14.0) (1.26.4)\n",
      "Requirement already satisfied: orjson<4.0.0,>=3.9.15 in /Users/dmitrysirakov/Library/Python/3.9/lib/python/site-packages (from kserve==0.14.0) (3.10.14)\n",
      "Requirement already satisfied: pandas<3.0.0,>=2.2.0 in /Users/dmitrysirakov/Library/Python/3.9/lib/python/site-packages (from kserve==0.14.0) (2.2.2)\n",
      "Requirement already satisfied: prometheus-client<0.21.0,>=0.20.0 in /Users/dmitrysirakov/Library/Python/3.9/lib/python/site-packages (from kserve==0.14.0) (0.20.0)\n",
      "Requirement already satisfied: protobuf<5.0.0,>=4.25.4 in /Users/dmitrysirakov/Library/Python/3.9/lib/python/site-packages (from kserve==0.14.0) (4.25.5)\n",
      "Requirement already satisfied: psutil<6.0.0,>=5.9.6 in /Users/dmitrysirakov/Library/Python/3.9/lib/python/site-packages (from kserve==0.14.0) (5.9.8)\n",
      "Requirement already satisfied: pydantic<3,>1.0 in /Users/dmitrysirakov/Library/Python/3.9/lib/python/site-packages (from kserve==0.14.0) (2.8.2)\n",
      "Requirement already satisfied: python-dateutil<3.0.0,>=2.8.0 in /Users/dmitrysirakov/Library/Python/3.9/lib/python/site-packages (from kserve==0.14.0) (2.9.0.post0)\n",
      "Requirement already satisfied: pyyaml<7.0.0,>=6.0.0 in /Users/dmitrysirakov/Library/Python/3.9/lib/python/site-packages (from kserve==0.14.0) (6.0.2)\n",
      "Requirement already satisfied: six<2.0.0,>=1.16.0 in /Users/dmitrysirakov/Library/Python/3.9/lib/python/site-packages (from kserve==0.14.0) (1.17.0)\n",
      "Requirement already satisfied: tabulate<0.10.0,>=0.9.0 in /Users/dmitrysirakov/Library/Python/3.9/lib/python/site-packages (from kserve==0.14.0) (0.9.0)\n",
      "Requirement already satisfied: timing-asgi<0.4.0,>=0.3.0 in /Users/dmitrysirakov/Library/Python/3.9/lib/python/site-packages (from kserve==0.14.0) (0.3.1)\n",
      "Requirement already satisfied: uvicorn<0.31.0,>=0.30.6 in /Users/dmitrysirakov/Library/Python/3.9/lib/python/site-packages (from uvicorn[standard]<0.31.0,>=0.30.6->kserve==0.14.0) (0.30.6)\n",
      "Requirement already satisfied: deprecation<3.0,>=2.0 in /Users/dmitrysirakov/Library/Python/3.9/lib/python/site-packages (from cloudevents<2.0.0,>=1.6.2->kserve==0.14.0) (2.1.0)\n",
      "Requirement already satisfied: starlette<0.42.0,>=0.40.0 in /Users/dmitrysirakov/Library/Python/3.9/lib/python/site-packages (from fastapi>=0.114.1->kserve==0.14.0) (0.41.3)\n",
      "Requirement already satisfied: typing-extensions>=4.8.0 in /Users/dmitrysirakov/Library/Python/3.9/lib/python/site-packages (from fastapi>=0.114.1->kserve==0.14.0) (4.12.2)\n",
      "Requirement already satisfied: anyio in /Users/dmitrysirakov/Library/Python/3.9/lib/python/site-packages (from httpx<0.28.0,>=0.27.2->kserve==0.14.0) (4.4.0)\n",
      "Requirement already satisfied: certifi in /Users/dmitrysirakov/Library/Python/3.9/lib/python/site-packages (from httpx<0.28.0,>=0.27.2->kserve==0.14.0) (2024.7.4)\n",
      "Requirement already satisfied: httpcore==1.* in /Users/dmitrysirakov/Library/Python/3.9/lib/python/site-packages (from httpx<0.28.0,>=0.27.2->kserve==0.14.0) (1.0.5)\n",
      "Requirement already satisfied: idna in /Users/dmitrysirakov/Library/Python/3.9/lib/python/site-packages (from httpx<0.28.0,>=0.27.2->kserve==0.14.0) (3.7)\n",
      "Requirement already satisfied: sniffio in /Users/dmitrysirakov/Library/Python/3.9/lib/python/site-packages (from httpx<0.28.0,>=0.27.2->kserve==0.14.0) (1.3.1)\n",
      "Requirement already satisfied: h11<0.15,>=0.13 in /Users/dmitrysirakov/Library/Python/3.9/lib/python/site-packages (from httpcore==1.*->httpx<0.28.0,>=0.27.2->kserve==0.14.0) (0.14.0)\n",
      "Requirement already satisfied: google-auth>=1.0.1 in /Users/dmitrysirakov/Library/Python/3.9/lib/python/site-packages (from kubernetes>=23.3.0->kserve==0.14.0) (2.37.0)\n",
      "Requirement already satisfied: websocket-client!=0.40.0,!=0.41.*,!=0.42.*,>=0.32.0 in /Users/dmitrysirakov/Library/Python/3.9/lib/python/site-packages (from kubernetes>=23.3.0->kserve==0.14.0) (1.8.0)\n",
      "Requirement already satisfied: requests in /Users/dmitrysirakov/Library/Python/3.9/lib/python/site-packages (from kubernetes>=23.3.0->kserve==0.14.0) (2.32.3)\n",
      "Requirement already satisfied: requests-oauthlib in /Users/dmitrysirakov/Library/Python/3.9/lib/python/site-packages (from kubernetes>=23.3.0->kserve==0.14.0) (2.0.0)\n",
      "Requirement already satisfied: oauthlib>=3.2.2 in /Users/dmitrysirakov/Library/Python/3.9/lib/python/site-packages (from kubernetes>=23.3.0->kserve==0.14.0) (3.2.2)\n",
      "Requirement already satisfied: urllib3>=1.24.2 in /Users/dmitrysirakov/Library/Python/3.9/lib/python/site-packages (from kubernetes>=23.3.0->kserve==0.14.0) (1.26.19)\n",
      "Requirement already satisfied: durationpy>=0.7 in /Users/dmitrysirakov/Library/Python/3.9/lib/python/site-packages (from kubernetes>=23.3.0->kserve==0.14.0) (0.9)\n",
      "Requirement already satisfied: pytz>=2020.1 in /Users/dmitrysirakov/Library/Python/3.9/lib/python/site-packages (from pandas<3.0.0,>=2.2.0->kserve==0.14.0) (2024.1)\n",
      "Requirement already satisfied: tzdata>=2022.7 in /Users/dmitrysirakov/Library/Python/3.9/lib/python/site-packages (from pandas<3.0.0,>=2.2.0->kserve==0.14.0) (2024.1)\n",
      "Requirement already satisfied: annotated-types>=0.4.0 in /Users/dmitrysirakov/Library/Python/3.9/lib/python/site-packages (from pydantic<3,>1.0->kserve==0.14.0) (0.7.0)\n",
      "Requirement already satisfied: pydantic-core==2.20.1 in /Users/dmitrysirakov/Library/Python/3.9/lib/python/site-packages (from pydantic<3,>1.0->kserve==0.14.0) (2.20.1)\n",
      "Requirement already satisfied: click>=7.0 in /Users/dmitrysirakov/Library/Python/3.9/lib/python/site-packages (from uvicorn<0.31.0,>=0.30.6->uvicorn[standard]<0.31.0,>=0.30.6->kserve==0.14.0) (8.1.7)\n",
      "Requirement already satisfied: httptools>=0.5.0 in /Users/dmitrysirakov/Library/Python/3.9/lib/python/site-packages (from uvicorn[standard]<0.31.0,>=0.30.6->kserve==0.14.0) (0.6.4)\n",
      "Requirement already satisfied: python-dotenv>=0.13 in /Users/dmitrysirakov/Library/Python/3.9/lib/python/site-packages (from uvicorn[standard]<0.31.0,>=0.30.6->kserve==0.14.0) (1.0.1)\n",
      "Requirement already satisfied: uvloop!=0.15.0,!=0.15.1,>=0.14.0 in /Users/dmitrysirakov/Library/Python/3.9/lib/python/site-packages (from uvicorn[standard]<0.31.0,>=0.30.6->kserve==0.14.0) (0.21.0)\n",
      "Requirement already satisfied: watchfiles>=0.13 in /Users/dmitrysirakov/Library/Python/3.9/lib/python/site-packages (from uvicorn[standard]<0.31.0,>=0.30.6->kserve==0.14.0) (1.0.4)\n",
      "Requirement already satisfied: websockets>=10.4 in /Users/dmitrysirakov/Library/Python/3.9/lib/python/site-packages (from uvicorn[standard]<0.31.0,>=0.30.6->kserve==0.14.0) (14.1)\n",
      "Requirement already satisfied: packaging in /Users/dmitrysirakov/Library/Python/3.9/lib/python/site-packages (from deprecation<3.0,>=2.0->cloudevents<2.0.0,>=1.6.2->kserve==0.14.0) (24.1)\n",
      "Requirement already satisfied: cachetools<6.0,>=2.0.0 in /Users/dmitrysirakov/Library/Python/3.9/lib/python/site-packages (from google-auth>=1.0.1->kubernetes>=23.3.0->kserve==0.14.0) (5.5.0)\n",
      "Requirement already satisfied: pyasn1-modules>=0.2.1 in /Users/dmitrysirakov/Library/Python/3.9/lib/python/site-packages (from google-auth>=1.0.1->kubernetes>=23.3.0->kserve==0.14.0) (0.4.1)\n",
      "Requirement already satisfied: rsa<5,>=3.1.4 in /Users/dmitrysirakov/Library/Python/3.9/lib/python/site-packages (from google-auth>=1.0.1->kubernetes>=23.3.0->kserve==0.14.0) (4.9)\n",
      "Requirement already satisfied: exceptiongroup>=1.0.2 in /Users/dmitrysirakov/Library/Python/3.9/lib/python/site-packages (from anyio->httpx<0.28.0,>=0.27.2->kserve==0.14.0) (1.2.1)\n",
      "Requirement already satisfied: charset-normalizer<4,>=2 in /Users/dmitrysirakov/Library/Python/3.9/lib/python/site-packages (from requests->kubernetes>=23.3.0->kserve==0.14.0) (3.3.2)\n",
      "Requirement already satisfied: pyasn1<0.7.0,>=0.4.6 in /Users/dmitrysirakov/Library/Python/3.9/lib/python/site-packages (from pyasn1-modules>=0.2.1->google-auth>=1.0.1->kubernetes>=23.3.0->kserve==0.14.0) (0.6.1)\n",
      "Downloading kserve-0.14.0-py3-none-any.whl (487 kB)\n",
      "Installing collected packages: kserve\n",
      "  Attempting uninstall: kserve\n",
      "    Found existing installation: kserve 0.14.1\n",
      "    Uninstalling kserve-0.14.1:\n",
      "      Successfully uninstalled kserve-0.14.1\n",
      "Successfully installed kserve-0.14.0\n",
      "\n",
      "\u001b[1m[\u001b[0m\u001b[34;49mnotice\u001b[0m\u001b[1;39;49m]\u001b[0m\u001b[39;49m A new release of pip is available: \u001b[0m\u001b[31;49m24.2\u001b[0m\u001b[39;49m -> \u001b[0m\u001b[32;49m24.3.1\u001b[0m\n",
      "\u001b[1m[\u001b[0m\u001b[34;49mnotice\u001b[0m\u001b[1;39;49m]\u001b[0m\u001b[39;49m To update, run: \u001b[0m\u001b[32;49m/Library/Developer/CommandLineTools/usr/bin/python3 -m pip install --upgrade pip\u001b[0m\n"
     ]
    }
   ],
   "source": [
    "!pip install kserve==0.14.0"
   ]
  },
  {
   "cell_type": "code",
   "execution_count": 34,
   "metadata": {},
   "outputs": [
    {
     "name": "stdout",
     "output_type": "stream",
     "text": [
      "Defaulting to user installation because normal site-packages is not writeable\n",
      "Collecting python-dotenv\n",
      "  Using cached python_dotenv-1.0.1-py3-none-any.whl.metadata (23 kB)\n",
      "Using cached python_dotenv-1.0.1-py3-none-any.whl (19 kB)\n",
      "Installing collected packages: python-dotenv\n",
      "Successfully installed python-dotenv-1.0.1\n",
      "\n",
      "\u001b[1m[\u001b[0m\u001b[34;49mnotice\u001b[0m\u001b[1;39;49m]\u001b[0m\u001b[39;49m A new release of pip is available: \u001b[0m\u001b[31;49m24.2\u001b[0m\u001b[39;49m -> \u001b[0m\u001b[32;49m24.3.1\u001b[0m\n",
      "\u001b[1m[\u001b[0m\u001b[34;49mnotice\u001b[0m\u001b[1;39;49m]\u001b[0m\u001b[39;49m To update, run: \u001b[0m\u001b[32;49m/Library/Developer/CommandLineTools/usr/bin/python3 -m pip install --upgrade pip\u001b[0m\n"
     ]
    }
   ],
   "source": [
    "!pip install python-dotenv"
   ]
  },
  {
   "cell_type": "code",
   "execution_count": 1,
   "metadata": {},
   "outputs": [
    {
     "data": {
      "text/plain": [
       "True"
      ]
     },
     "execution_count": 1,
     "metadata": {},
     "output_type": "execute_result"
    }
   ],
   "source": [
    "from opensearchpy import OpenSearch, helpers\n",
    "from dotenv import load_dotenv\n",
    "import os\n",
    "\n",
    "load_dotenv()"
   ]
  },
  {
   "cell_type": "code",
   "execution_count": 2,
   "metadata": {},
   "outputs": [],
   "source": [
    "opensearch_params = {\n",
    "    \"host\": \"localhost\",\n",
    "    \"port\": \"9200\",\n",
    "    \"username\": os.environ[\"OPENSEARCH_USERNAME\"],\n",
    "    \"password\": os.environ[\"OPENSEARCH_PASSWORD\"],\n",
    "}"
   ]
  },
  {
   "cell_type": "code",
   "execution_count": null,
   "metadata": {},
   "outputs": [],
   "source": [
    "opensearch ="
   ]
  },
  {
   "cell_type": "code",
   "execution_count": 3,
   "metadata": {},
   "outputs": [],
   "source": [
    "opensearch_client = OpenSearch(\n",
    "    hosts=[{\"host\": opensearch_params[\"host\"], \"port\": opensearch_params[\"port\"]}],\n",
    "    http_compress=False,\n",
    "    http_auth=(opensearch_params[\"username\"], opensearch_params[\"password\"]),\n",
    "    use_ssl=True,\n",
    "    verify_certs=False,\n",
    "    ssl_assert_hostname=False,\n",
    "    ssl_show_warn=False,\n",
    ")"
   ]
  },
  {
   "cell_type": "code",
   "execution_count": 31,
   "metadata": {},
   "outputs": [],
   "source": [
    "INDEX_NAME = \"profagro\""
   ]
  },
  {
   "cell_type": "code",
   "execution_count": 40,
   "metadata": {},
   "outputs": [],
   "source": [
    "# Имя индекса, который нужно удалить\n",
    "index_name = \"profagro_amazone_kserve_baai_bge_m3\"\n",
    "\n",
    "\n",
    "response = opensearch_client.indices.create(index=index_name)"
   ]
  },
  {
   "cell_type": "code",
   "execution_count": 43,
   "metadata": {},
   "outputs": [
    {
     "data": {
      "text/plain": [
       "{'acknowledged': True,\n",
       " 'shards_acknowledged': True,\n",
       " 'index': 'profagro_amazone_kserve_baai_bge_m3'}"
      ]
     },
     "execution_count": 43,
     "metadata": {},
     "output_type": "execute_result"
    }
   ],
   "source": [
    "response"
   ]
  },
  {
   "cell_type": "code",
   "execution_count": 55,
   "metadata": {},
   "outputs": [
    {
     "data": {
      "text/plain": [
       "{'_shards': {'total': 3, 'successful': 3, 'failed': 0}}"
      ]
     },
     "execution_count": 55,
     "metadata": {},
     "output_type": "execute_result"
    }
   ],
   "source": [
    "opensearch_client.indices.refresh(index=index_name)"
   ]
  },
  {
   "cell_type": "code",
   "execution_count": 4,
   "metadata": {},
   "outputs": [
    {
     "name": "stdout",
     "output_type": "stream",
     "text": [
      "['.opensearch-observability', '.plugins-ml-config', '.opensearch-sap-log-types-config', 'profagro_kserve_baai_bge_m3_amazone', 'profagro_kserve_baai_bge_m3_kverneland', '.kibana_1', '.opendistro_security']\n"
     ]
    }
   ],
   "source": [
    "print(list(opensearch_client.indices.get_alias(\"*\").keys()))\n"
   ]
  },
  {
   "cell_type": "code",
   "execution_count": 32,
   "metadata": {},
   "outputs": [],
   "source": [
    "get_opensearch_default_index_settings = lambda x: {\n",
    "    \"settings\": {\n",
    "        \"index\": {\"number_of_shards\": 2},\n",
    "        \"analysis\": {\n",
    "            \"analyzer\": {\n",
    "                \"default\": {\n",
    "                    \"tokenizer\": \"standard\",\n",
    "                    \"filter\": [\"lowercase\", \"russian_snowball\"],\n",
    "                },\n",
    "                \"default_search\": {\n",
    "                    \"tokenizer\": \"standard\",\n",
    "                    \"filter\": [\n",
    "                        \"lowercase\",\n",
    "                        \"russian_stop\",\n",
    "                        \"russian_snowball\",\n",
    "                        \"graph_synonyms\",\n",
    "                    ],\n",
    "                },\n",
    "            },\n",
    "            \"filter\": {\n",
    "                \"graph_synonyms\": {\n",
    "                    \"type\": \"index_synonym_graph\",\n",
    "                    \"index\": \".synonyms\",\n",
    "                    \"expand\": True,\n",
    "                    \"lenient\": False,\n",
    "                    \"username\": opensearch_params[\"username\"],\n",
    "                    \"password\": opensearch_params[\"password\"],\n",
    "                },\n",
    "                \"russian_snowball\": {\"type\": \"snowball\", \"language\": \"Russian\"},\n",
    "                \"russian_stop\": {\"type\": \"stop\", \"stopwords\": \"_russian_\"},\n",
    "                \"shingle\": {\n",
    "                    \"type\": \"shingle\",\n",
    "                    \"min_shingle_size\": 2,\n",
    "                    \"max_shingle_size\": 2,\n",
    "                    \"output_unigrams\": True,\n",
    "                },\n",
    "            },\n",
    "        },\n",
    "    },\n",
    "}"
   ]
  },
  {
   "cell_type": "code",
   "execution_count": 53,
   "metadata": {},
   "outputs": [
    {
     "name": "stdout",
     "output_type": "stream",
     "text": [
      "{'acknowledged': True}\n",
      "{'acknowledged': True}\n"
     ]
    }
   ],
   "source": [
    "for index_name in opensearch_client.indices.get_alias(\"*\").keys():\n",
    "    if \".synonyms\" in index_name or INDEX_NAME in index_name:\n",
    "        response = opensearch_client.indices.delete(index=index_name, ignore=[400, 404])\n",
    "        print(response)"
   ]
  },
  {
   "cell_type": "code",
   "execution_count": 54,
   "metadata": {},
   "outputs": [
    {
     "name": "stdout",
     "output_type": "stream",
     "text": [
      "{\"acknowledged\":true,\"shards_acknowledged\":true,\"index\":\"profagro\"}\n"
     ]
    }
   ],
   "source": [
    "import requests\n",
    "import json\n",
    "\n",
    "result = requests.put(\n",
    "    f\"https://{opensearch_params['host']}:{opensearch_params['port']}/{INDEX_NAME}\",\n",
    "    json=get_opensearch_default_index_settings(INDEX_NAME),\n",
    "    auth=(opensearch_params[\"username\"], opensearch_params[\"password\"]),\n",
    "    verify=False,\n",
    ")\n",
    "\n",
    "print(result.text)"
   ]
  },
  {
   "cell_type": "code",
   "execution_count": 5,
   "metadata": {},
   "outputs": [],
   "source": [
    "import requests\n",
    "\n",
    "synonyms = []\n",
    "\n",
    "result = requests.post(\n",
    "    f\"https://{opensearch_params['host']}:{opensearch_params['port']}/.synonyms/_doc/synonyms\",\n",
    "    json={\"synonyms\": synonyms},\n",
    "    auth=(opensearch_params[\"username\"], opensearch_params[\"password\"]),\n",
    "    verify=False,\n",
    ")\n",
    "if result.status_code not in [200, 201]:\n",
    "    print(f\"Synonyms update failed: {result.status_code} - {result.text}\")"
   ]
  },
  {
   "cell_type": "code",
   "execution_count": 35,
   "metadata": {},
   "outputs": [
    {
     "name": "stdout",
     "output_type": "stream",
     "text": [
      "{\"_shards\":{\"total\":4,\"successful\":4,\"failed\":0},\"successful_refresh_details\":[{\"index\":\"profagro\",\"refreshed_analyzers\":[\"default_search\"]}]}\n"
     ]
    }
   ],
   "source": [
    "result = requests.post(\n",
    "    f\"https://{opensearch_params['host']}:{opensearch_params['port']}/_plugins/_refresh_search_analyzers/{INDEX_NAME}\",\n",
    "    auth=(opensearch_params[\"username\"], opensearch_params[\"password\"]),\n",
    "    verify=False,\n",
    ")\n",
    "print(result.text)"
   ]
  },
  {
   "cell_type": "code",
   "execution_count": 36,
   "metadata": {},
   "outputs": [
    {
     "name": "stdout",
     "output_type": "stream",
     "text": [
      "Total hits: 0\n",
      "\n",
      "Retrieved documents:\n"
     ]
    }
   ],
   "source": [
    "query = {\"query\": {\"match\": {\"content\": \"amazone\"}}}\n",
    "\n",
    "response = opensearch_client.search(body=query, index=\"profagro\")\n",
    "\n",
    "print(f\"Total hits: {response['hits']['total']['value']}\")\n",
    "print(\"\\nRetrieved documents:\")\n",
    "for hit in response[\"hits\"][\"hits\"]:\n",
    "    print(f\"ID: {hit['_id']}\")\n",
    "    print(f\"Score: {hit['_score']}\")\n",
    "    print(f\"Content: {hit['_source']['content']}\")\n",
    "    print(\"-\" * 50)"
   ]
  }
 ],
 "metadata": {
  "kernelspec": {
   "display_name": "Python 3",
   "language": "python",
   "name": "python3"
  },
  "language_info": {
   "codemirror_mode": {
    "name": "ipython",
    "version": 3
   },
   "file_extension": ".py",
   "mimetype": "text/x-python",
   "name": "python",
   "nbconvert_exporter": "python",
   "pygments_lexer": "ipython3",
   "version": "3.10.12"
  }
 },
 "nbformat": 4,
 "nbformat_minor": 2
}
